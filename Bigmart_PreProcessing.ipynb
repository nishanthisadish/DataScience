{
 "cells": [
  {
   "cell_type": "code",
   "execution_count": 2,
   "id": "123286dc",
   "metadata": {},
   "outputs": [],
   "source": [
    "import pandas as pd\n",
    "import numpy as np\n",
    "import matplotlib.pyplot as plt\n",
    "%matplotlib inline\n",
    "import warnings\n",
    "import seaborn as sns\n",
    "\n",
    "warnings.filterwarnings('ignore')\n",
    "\n",
    "from datetime import datetime\n",
    "from statsmodels.stats.outliers_influence import variance_inflation_factor"
   ]
  },
  {
   "cell_type": "code",
   "execution_count": 3,
   "id": "7b61e777",
   "metadata": {},
   "outputs": [],
   "source": [
    "train = pd.read_csv(\"C:\\\\Users\\\\sadis\\\\Desktop\\\\inceptez\\\\Statistics\\\\ML\\\\Assignments\\\\BigMartDataSet\\\\train.csv\")\n",
    "test = pd.read_csv(\"C:\\\\Users\\\\sadis\\\\Desktop\\\\inceptez\\\\Statistics\\\\ML\\\\Assignments\\\\BigMartDataSet\\\\test.csv\")"
   ]
  },
  {
   "cell_type": "code",
   "execution_count": 4,
   "id": "6068f46c",
   "metadata": {},
   "outputs": [
    {
     "data": {
      "text/plain": [
       "Index(['Item_Outlet_Sales'], dtype='object')"
      ]
     },
     "execution_count": 4,
     "metadata": {},
     "output_type": "execute_result"
    }
   ],
   "source": [
    "train.columns.difference(test.columns)"
   ]
  },
  {
   "cell_type": "code",
   "execution_count": 5,
   "id": "b07ecdd7",
   "metadata": {},
   "outputs": [
    {
     "data": {
      "text/plain": [
       "Item_Identifier                 0\n",
       "Item_Weight                  1463\n",
       "Item_Fat_Content                0\n",
       "Item_Visibility                 0\n",
       "Item_Type                       0\n",
       "Item_MRP                        0\n",
       "Outlet_Identifier               0\n",
       "Outlet_Establishment_Year       0\n",
       "Outlet_Size                  2410\n",
       "Outlet_Location_Type            0\n",
       "Outlet_Type                     0\n",
       "Item_Outlet_Sales               0\n",
       "dtype: int64"
      ]
     },
     "execution_count": 5,
     "metadata": {},
     "output_type": "execute_result"
    }
   ],
   "source": [
    "train.isna().sum()"
   ]
  },
  {
   "cell_type": "code",
   "execution_count": 6,
   "id": "41951413",
   "metadata": {},
   "outputs": [
    {
     "data": {
      "text/plain": [
       "Item_Identifier                 0\n",
       "Item_Weight                   976\n",
       "Item_Fat_Content                0\n",
       "Item_Visibility                 0\n",
       "Item_Type                       0\n",
       "Item_MRP                        0\n",
       "Outlet_Identifier               0\n",
       "Outlet_Establishment_Year       0\n",
       "Outlet_Size                  1606\n",
       "Outlet_Location_Type            0\n",
       "Outlet_Type                     0\n",
       "dtype: int64"
      ]
     },
     "execution_count": 6,
     "metadata": {},
     "output_type": "execute_result"
    }
   ],
   "source": [
    "test.isna().sum()"
   ]
  },
  {
   "cell_type": "code",
   "execution_count": 7,
   "id": "e57cf996",
   "metadata": {},
   "outputs": [],
   "source": [
    "train['Source']= 'train'\n",
    "test['Source']= 'test'"
   ]
  },
  {
   "cell_type": "code",
   "execution_count": 8,
   "id": "efa9e6b3",
   "metadata": {},
   "outputs": [],
   "source": [
    "df = pd.concat([train,test])"
   ]
  },
  {
   "cell_type": "code",
   "execution_count": 9,
   "id": "1000419f",
   "metadata": {},
   "outputs": [
    {
     "data": {
      "text/html": [
       "<div>\n",
       "<style scoped>\n",
       "    .dataframe tbody tr th:only-of-type {\n",
       "        vertical-align: middle;\n",
       "    }\n",
       "\n",
       "    .dataframe tbody tr th {\n",
       "        vertical-align: top;\n",
       "    }\n",
       "\n",
       "    .dataframe thead th {\n",
       "        text-align: right;\n",
       "    }\n",
       "</style>\n",
       "<table border=\"1\" class=\"dataframe\">\n",
       "  <thead>\n",
       "    <tr style=\"text-align: right;\">\n",
       "      <th></th>\n",
       "      <th>Item_Identifier</th>\n",
       "      <th>Item_Weight</th>\n",
       "      <th>Item_Fat_Content</th>\n",
       "      <th>Item_Visibility</th>\n",
       "      <th>Item_Type</th>\n",
       "      <th>Item_MRP</th>\n",
       "      <th>Outlet_Identifier</th>\n",
       "      <th>Outlet_Establishment_Year</th>\n",
       "      <th>Outlet_Size</th>\n",
       "      <th>Outlet_Location_Type</th>\n",
       "      <th>Outlet_Type</th>\n",
       "      <th>Item_Outlet_Sales</th>\n",
       "      <th>Source</th>\n",
       "    </tr>\n",
       "  </thead>\n",
       "  <tbody>\n",
       "    <tr>\n",
       "      <th>0</th>\n",
       "      <td>FDA15</td>\n",
       "      <td>9.30</td>\n",
       "      <td>Low Fat</td>\n",
       "      <td>0.016047</td>\n",
       "      <td>Dairy</td>\n",
       "      <td>249.8092</td>\n",
       "      <td>OUT049</td>\n",
       "      <td>1999</td>\n",
       "      <td>Medium</td>\n",
       "      <td>Tier 1</td>\n",
       "      <td>Supermarket Type1</td>\n",
       "      <td>3735.1380</td>\n",
       "      <td>train</td>\n",
       "    </tr>\n",
       "    <tr>\n",
       "      <th>1</th>\n",
       "      <td>DRC01</td>\n",
       "      <td>5.92</td>\n",
       "      <td>Regular</td>\n",
       "      <td>0.019278</td>\n",
       "      <td>Soft Drinks</td>\n",
       "      <td>48.2692</td>\n",
       "      <td>OUT018</td>\n",
       "      <td>2009</td>\n",
       "      <td>Medium</td>\n",
       "      <td>Tier 3</td>\n",
       "      <td>Supermarket Type2</td>\n",
       "      <td>443.4228</td>\n",
       "      <td>train</td>\n",
       "    </tr>\n",
       "    <tr>\n",
       "      <th>2</th>\n",
       "      <td>FDN15</td>\n",
       "      <td>17.50</td>\n",
       "      <td>Low Fat</td>\n",
       "      <td>0.016760</td>\n",
       "      <td>Meat</td>\n",
       "      <td>141.6180</td>\n",
       "      <td>OUT049</td>\n",
       "      <td>1999</td>\n",
       "      <td>Medium</td>\n",
       "      <td>Tier 1</td>\n",
       "      <td>Supermarket Type1</td>\n",
       "      <td>2097.2700</td>\n",
       "      <td>train</td>\n",
       "    </tr>\n",
       "  </tbody>\n",
       "</table>\n",
       "</div>"
      ],
      "text/plain": [
       "  Item_Identifier  Item_Weight Item_Fat_Content  Item_Visibility    Item_Type  \\\n",
       "0           FDA15         9.30          Low Fat         0.016047        Dairy   \n",
       "1           DRC01         5.92          Regular         0.019278  Soft Drinks   \n",
       "2           FDN15        17.50          Low Fat         0.016760         Meat   \n",
       "\n",
       "   Item_MRP Outlet_Identifier  Outlet_Establishment_Year Outlet_Size  \\\n",
       "0  249.8092            OUT049                       1999      Medium   \n",
       "1   48.2692            OUT018                       2009      Medium   \n",
       "2  141.6180            OUT049                       1999      Medium   \n",
       "\n",
       "  Outlet_Location_Type        Outlet_Type  Item_Outlet_Sales Source  \n",
       "0               Tier 1  Supermarket Type1          3735.1380  train  \n",
       "1               Tier 3  Supermarket Type2           443.4228  train  \n",
       "2               Tier 1  Supermarket Type1          2097.2700  train  "
      ]
     },
     "execution_count": 9,
     "metadata": {},
     "output_type": "execute_result"
    }
   ],
   "source": [
    "#Check whether new column is added\n",
    "df.loc[df['Source'] == 'train'][:3]\n",
    "#df[:2]\n"
   ]
  },
  {
   "cell_type": "code",
   "execution_count": 10,
   "id": "67bb3837",
   "metadata": {},
   "outputs": [],
   "source": [
    "#splitting numerical and Categorical data\n",
    "#remove \n",
    "#1.Outlet_Establishment_Year \n",
    "#2.\"Y\"/Independent Variable (Item_Outlet_Sales)\n",
    "\n",
    "numerical_columns = df.select_dtypes(include=np.number).drop(columns = ['Outlet_Establishment_Year','Item_Outlet_Sales'])\n",
    "categorical_columns = df.select_dtypes(exclude = np.number).columns"
   ]
  },
  {
   "cell_type": "markdown",
   "id": "c2882e53",
   "metadata": {},
   "source": [
    "# Fixing Categorical Data Issues (One way by using Mode)\n",
    "1. High Cardinality (More number of distinct values in \"Item_Identifier\"). Try to group it\n",
    "2. Incosistent data in \"Item_Fat_Content\". Replace and Combine the values\n",
    "3. Fill the missing Outlet_Size values using Mode of \"Outype_type\"\n",
    "4. Check the relationship between \"Item_Type\" by \"Item_identifier\"\n",
    "5. Check the relationship between \"Outlet_Type\" and \"Outlet_Size\"\n",
    "6. Check the relationship between \"Item_Identifier\" and \"Item_Fat_Content\""
   ]
  },
  {
   "cell_type": "code",
   "execution_count": 11,
   "id": "ec8b4339",
   "metadata": {},
   "outputs": [
    {
     "name": "stdout",
     "output_type": "stream",
     "text": [
      "FDS08    10\n",
      "FDL09    10\n",
      "FDU57    10\n",
      "NCV41    10\n",
      "NCM18    10\n",
      "         ..\n",
      "FDS22     7\n",
      "NCW54     7\n",
      "FDO33     7\n",
      "FDL50     7\n",
      "FDM50     7\n",
      "Name: Item_Identifier, Length: 1559, dtype: int64\n",
      "Low Fat    8485\n",
      "Regular    4824\n",
      "LF          522\n",
      "reg         195\n",
      "low fat     178\n",
      "Name: Item_Fat_Content, dtype: int64\n",
      "Fruits and Vegetables    2013\n",
      "Snack Foods              1989\n",
      "Household                1548\n",
      "Frozen Foods             1426\n",
      "Dairy                    1136\n",
      "Baking Goods             1086\n",
      "Canned                   1084\n",
      "Health and Hygiene        858\n",
      "Meat                      736\n",
      "Soft Drinks               726\n",
      "Breads                    416\n",
      "Hard Drinks               362\n",
      "Others                    280\n",
      "Starchy Foods             269\n",
      "Breakfast                 186\n",
      "Seafood                    89\n",
      "Name: Item_Type, dtype: int64\n",
      "OUT027    1559\n",
      "OUT013    1553\n",
      "OUT049    1550\n",
      "OUT035    1550\n",
      "OUT046    1550\n",
      "OUT045    1548\n",
      "OUT018    1546\n",
      "OUT017    1543\n",
      "OUT010     925\n",
      "OUT019     880\n",
      "Name: Outlet_Identifier, dtype: int64\n",
      "Medium    4655\n",
      "Small     3980\n",
      "High      1553\n",
      "Name: Outlet_Size, dtype: int64\n",
      "Tier 3    5583\n",
      "Tier 2    4641\n",
      "Tier 1    3980\n",
      "Name: Outlet_Location_Type, dtype: int64\n",
      "Supermarket Type1    9294\n",
      "Grocery Store        1805\n",
      "Supermarket Type3    1559\n",
      "Supermarket Type2    1546\n",
      "Name: Outlet_Type, dtype: int64\n",
      "train    8523\n",
      "test     5681\n",
      "Name: Source, dtype: int64\n"
     ]
    },
    {
     "data": {
      "text/plain": [
       "Item_Identifier         None\n",
       "Item_Fat_Content        None\n",
       "Item_Type               None\n",
       "Outlet_Identifier       None\n",
       "Outlet_Size             None\n",
       "Outlet_Location_Type    None\n",
       "Outlet_Type             None\n",
       "Source                  None\n",
       "dtype: object"
      ]
     },
     "execution_count": 11,
     "metadata": {},
     "output_type": "execute_result"
    }
   ],
   "source": [
    "df[categorical_columns].apply (lambda x: print(x.value_counts()))"
   ]
  },
  {
   "cell_type": "code",
   "execution_count": 12,
   "id": "54731b86",
   "metadata": {},
   "outputs": [
    {
     "data": {
      "text/plain": [
       "FD    10201\n",
       "NC     2686\n",
       "DR     1317\n",
       "Name: Item_Identifier_2, dtype: int64"
      ]
     },
     "execution_count": 12,
     "metadata": {},
     "output_type": "execute_result"
    }
   ],
   "source": [
    "#Step1: High Cardinality (More number of distinct values in \"Item_Identifier\"). Try to group it\n",
    "df['Item_Identifier_2']= df['Item_Identifier'].apply (lambda x: x[:2])\n",
    "df['Item_Identifier_2'].value_counts()"
   ]
  },
  {
   "cell_type": "code",
   "execution_count": 13,
   "id": "34c25a37",
   "metadata": {},
   "outputs": [
    {
     "data": {
      "text/plain": [
       "Low Fat    9185\n",
       "Regular    5019\n",
       "Name: Item_Fat_Content, dtype: int64"
      ]
     },
     "execution_count": 13,
     "metadata": {},
     "output_type": "execute_result"
    }
   ],
   "source": [
    "#Step2: Incosistent data in \"Item_Fat_Content\". Replace and Combine the values\n",
    "df['Item_Fat_Content']= df['Item_Fat_Content'].replace({'LF':'Low Fat', 'low fat':'Low Fat', 'reg':'Regular'})\n",
    "df['Item_Fat_Content'].value_counts()"
   ]
  },
  {
   "cell_type": "code",
   "execution_count": 14,
   "id": "d39cec86",
   "metadata": {},
   "outputs": [],
   "source": [
    "#Step3: Fill the missing Outlet_Size values using Mode of \"Outype_type\"\n",
    "df['Outlet_Size'] = df.groupby(by = ['Outlet_Type']).Outlet_Size.transform(lambda x: x.fillna(x.mode()[0]))"
   ]
  },
  {
   "cell_type": "code",
   "execution_count": 15,
   "id": "6490e65a",
   "metadata": {},
   "outputs": [
    {
     "data": {
      "text/plain": [
       "Item_Identifier_2  Item_Type            \n",
       "DR                 Dairy                     229\n",
       "                   Hard Drinks               362\n",
       "                   Soft Drinks               726\n",
       "FD                 Baking Goods             1086\n",
       "                   Breads                    416\n",
       "                   Breakfast                 186\n",
       "                   Canned                   1084\n",
       "                   Dairy                     907\n",
       "                   Frozen Foods             1426\n",
       "                   Fruits and Vegetables    2013\n",
       "                   Meat                      736\n",
       "                   Seafood                    89\n",
       "                   Snack Foods              1989\n",
       "                   Starchy Foods             269\n",
       "NC                 Health and Hygiene        858\n",
       "                   Household                1548\n",
       "                   Others                    280\n",
       "Name: Item_Identifier, dtype: int64"
      ]
     },
     "execution_count": 15,
     "metadata": {},
     "output_type": "execute_result"
    }
   ],
   "source": [
    "#Step4: Check the relationship between \"Item_Type\" by \"Item_identifier\"\n",
    "df.groupby(by=['Item_Identifier_2','Item_Type'])['Item_Identifier'].count()"
   ]
  },
  {
   "cell_type": "code",
   "execution_count": 16,
   "id": "1ff9464f",
   "metadata": {},
   "outputs": [
    {
     "data": {
      "text/plain": [
       "Outlet_Type        Outlet_Size\n",
       "Grocery Store      Small           340.329723\n",
       "Supermarket Type1  High           2298.995256\n",
       "                   Medium         2348.354635\n",
       "                   Small          2358.343066\n",
       "Supermarket Type2  Medium         1995.498739\n",
       "Supermarket Type3  Medium         3694.038558\n",
       "Name: Item_Outlet_Sales, dtype: float64"
      ]
     },
     "execution_count": 16,
     "metadata": {},
     "output_type": "execute_result"
    }
   ],
   "source": [
    "#Step5: Check the relation between Outlet Type and Outlet Size\n",
    "train.groupby(['Outlet_Type','Outlet_Size'])['Item_Outlet_Sales'].mean()"
   ]
  },
  {
   "cell_type": "code",
   "execution_count": 17,
   "id": "49338417",
   "metadata": {},
   "outputs": [
    {
     "data": {
      "text/plain": [
       "Outlet_Type\n",
       "Grocery Store         339.828500\n",
       "Supermarket Type1    2316.181148\n",
       "Supermarket Type2    1995.498739\n",
       "Supermarket Type3    3694.038558\n",
       "Name: Item_Outlet_Sales, dtype: float64"
      ]
     },
     "execution_count": 17,
     "metadata": {},
     "output_type": "execute_result"
    }
   ],
   "source": [
    "train.groupby(['Outlet_Type'])['Item_Outlet_Sales'].mean()"
   ]
  },
  {
   "cell_type": "code",
   "execution_count": 18,
   "id": "51cca25a",
   "metadata": {},
   "outputs": [
    {
     "data": {
      "text/plain": [
       "Outlet_Size\n",
       "High      2298.995256\n",
       "Medium    2681.603542\n",
       "Small     1912.149161\n",
       "Name: Item_Outlet_Sales, dtype: float64"
      ]
     },
     "execution_count": 18,
     "metadata": {},
     "output_type": "execute_result"
    }
   ],
   "source": [
    "train.groupby(['Outlet_Size'])['Item_Outlet_Sales'].mean()"
   ]
  },
  {
   "cell_type": "code",
   "execution_count": 19,
   "id": "4dacb126",
   "metadata": {},
   "outputs": [
    {
     "data": {
      "text/html": [
       "<div>\n",
       "<style scoped>\n",
       "    .dataframe tbody tr th:only-of-type {\n",
       "        vertical-align: middle;\n",
       "    }\n",
       "\n",
       "    .dataframe tbody tr th {\n",
       "        vertical-align: top;\n",
       "    }\n",
       "\n",
       "    .dataframe thead th {\n",
       "        text-align: right;\n",
       "    }\n",
       "</style>\n",
       "<table border=\"1\" class=\"dataframe\">\n",
       "  <thead>\n",
       "    <tr style=\"text-align: right;\">\n",
       "      <th></th>\n",
       "      <th></th>\n",
       "      <th>Item_Identifier</th>\n",
       "      <th>Item_Weight</th>\n",
       "      <th>Item_Visibility</th>\n",
       "      <th>Item_Type</th>\n",
       "      <th>Item_MRP</th>\n",
       "      <th>Outlet_Identifier</th>\n",
       "      <th>Outlet_Establishment_Year</th>\n",
       "      <th>Outlet_Size</th>\n",
       "      <th>Outlet_Location_Type</th>\n",
       "      <th>Outlet_Type</th>\n",
       "      <th>Item_Outlet_Sales</th>\n",
       "      <th>Source</th>\n",
       "    </tr>\n",
       "    <tr>\n",
       "      <th>Item_Identifier_2</th>\n",
       "      <th>Item_Fat_Content</th>\n",
       "      <th></th>\n",
       "      <th></th>\n",
       "      <th></th>\n",
       "      <th></th>\n",
       "      <th></th>\n",
       "      <th></th>\n",
       "      <th></th>\n",
       "      <th></th>\n",
       "      <th></th>\n",
       "      <th></th>\n",
       "      <th></th>\n",
       "      <th></th>\n",
       "    </tr>\n",
       "  </thead>\n",
       "  <tbody>\n",
       "    <tr>\n",
       "      <th rowspan=\"2\" valign=\"top\">DR</th>\n",
       "      <th>Low Fat</th>\n",
       "      <td>1208</td>\n",
       "      <td>1006</td>\n",
       "      <td>1208</td>\n",
       "      <td>1208</td>\n",
       "      <td>1208</td>\n",
       "      <td>1208</td>\n",
       "      <td>1208</td>\n",
       "      <td>1208</td>\n",
       "      <td>1208</td>\n",
       "      <td>1208</td>\n",
       "      <td>728</td>\n",
       "      <td>1208</td>\n",
       "    </tr>\n",
       "    <tr>\n",
       "      <th>Regular</th>\n",
       "      <td>109</td>\n",
       "      <td>91</td>\n",
       "      <td>109</td>\n",
       "      <td>109</td>\n",
       "      <td>109</td>\n",
       "      <td>109</td>\n",
       "      <td>109</td>\n",
       "      <td>109</td>\n",
       "      <td>109</td>\n",
       "      <td>109</td>\n",
       "      <td>71</td>\n",
       "      <td>109</td>\n",
       "    </tr>\n",
       "    <tr>\n",
       "      <th rowspan=\"2\" valign=\"top\">FD</th>\n",
       "      <th>Low Fat</th>\n",
       "      <td>5291</td>\n",
       "      <td>4378</td>\n",
       "      <td>5291</td>\n",
       "      <td>5291</td>\n",
       "      <td>5291</td>\n",
       "      <td>5291</td>\n",
       "      <td>5291</td>\n",
       "      <td>5291</td>\n",
       "      <td>5291</td>\n",
       "      <td>5291</td>\n",
       "      <td>3190</td>\n",
       "      <td>5291</td>\n",
       "    </tr>\n",
       "    <tr>\n",
       "      <th>Regular</th>\n",
       "      <td>4910</td>\n",
       "      <td>4067</td>\n",
       "      <td>4910</td>\n",
       "      <td>4910</td>\n",
       "      <td>4910</td>\n",
       "      <td>4910</td>\n",
       "      <td>4910</td>\n",
       "      <td>4910</td>\n",
       "      <td>4910</td>\n",
       "      <td>4910</td>\n",
       "      <td>2935</td>\n",
       "      <td>4910</td>\n",
       "    </tr>\n",
       "    <tr>\n",
       "      <th>NC</th>\n",
       "      <th>Low Fat</th>\n",
       "      <td>2686</td>\n",
       "      <td>2223</td>\n",
       "      <td>2686</td>\n",
       "      <td>2686</td>\n",
       "      <td>2686</td>\n",
       "      <td>2686</td>\n",
       "      <td>2686</td>\n",
       "      <td>2686</td>\n",
       "      <td>2686</td>\n",
       "      <td>2686</td>\n",
       "      <td>1599</td>\n",
       "      <td>2686</td>\n",
       "    </tr>\n",
       "  </tbody>\n",
       "</table>\n",
       "</div>"
      ],
      "text/plain": [
       "                                    Item_Identifier  Item_Weight  \\\n",
       "Item_Identifier_2 Item_Fat_Content                                 \n",
       "DR                Low Fat                      1208         1006   \n",
       "                  Regular                       109           91   \n",
       "FD                Low Fat                      5291         4378   \n",
       "                  Regular                      4910         4067   \n",
       "NC                Low Fat                      2686         2223   \n",
       "\n",
       "                                    Item_Visibility  Item_Type  Item_MRP  \\\n",
       "Item_Identifier_2 Item_Fat_Content                                         \n",
       "DR                Low Fat                      1208       1208      1208   \n",
       "                  Regular                       109        109       109   \n",
       "FD                Low Fat                      5291       5291      5291   \n",
       "                  Regular                      4910       4910      4910   \n",
       "NC                Low Fat                      2686       2686      2686   \n",
       "\n",
       "                                    Outlet_Identifier  \\\n",
       "Item_Identifier_2 Item_Fat_Content                      \n",
       "DR                Low Fat                        1208   \n",
       "                  Regular                         109   \n",
       "FD                Low Fat                        5291   \n",
       "                  Regular                        4910   \n",
       "NC                Low Fat                        2686   \n",
       "\n",
       "                                    Outlet_Establishment_Year  Outlet_Size  \\\n",
       "Item_Identifier_2 Item_Fat_Content                                           \n",
       "DR                Low Fat                                1208         1208   \n",
       "                  Regular                                 109          109   \n",
       "FD                Low Fat                                5291         5291   \n",
       "                  Regular                                4910         4910   \n",
       "NC                Low Fat                                2686         2686   \n",
       "\n",
       "                                    Outlet_Location_Type  Outlet_Type  \\\n",
       "Item_Identifier_2 Item_Fat_Content                                      \n",
       "DR                Low Fat                           1208         1208   \n",
       "                  Regular                            109          109   \n",
       "FD                Low Fat                           5291         5291   \n",
       "                  Regular                           4910         4910   \n",
       "NC                Low Fat                           2686         2686   \n",
       "\n",
       "                                    Item_Outlet_Sales  Source  \n",
       "Item_Identifier_2 Item_Fat_Content                             \n",
       "DR                Low Fat                         728    1208  \n",
       "                  Regular                          71     109  \n",
       "FD                Low Fat                        3190    5291  \n",
       "                  Regular                        2935    4910  \n",
       "NC                Low Fat                        1599    2686  "
      ]
     },
     "execution_count": 19,
     "metadata": {},
     "output_type": "execute_result"
    }
   ],
   "source": [
    "#Step6: Check the relationship between \"Item_Identifier\" and \"Item_Fat_Content\"\n",
    "df.groupby(['Item_Identifier_2','Item_Fat_Content']).count()"
   ]
  },
  {
   "cell_type": "code",
   "execution_count": 53,
   "id": "857f0351",
   "metadata": {},
   "outputs": [],
   "source": [
    "df.drop(columns = ['Outlet_Size'],inplace = True)"
   ]
  },
  {
   "cell_type": "markdown",
   "id": "92b427fb",
   "metadata": {},
   "source": [
    "# Fixing the Numerical Data - using mean/median \n",
    "1. Fix the NA values for \"Item_Weight\" using \"Item_Identifier\"\n",
    "2. Fill Zero as NaN and update with Mean/Median Values"
   ]
  },
  {
   "cell_type": "code",
   "execution_count": 20,
   "id": "67ba2a62",
   "metadata": {},
   "outputs": [
    {
     "data": {
      "text/plain": [
       "0"
      ]
     },
     "execution_count": 20,
     "metadata": {},
     "output_type": "execute_result"
    }
   ],
   "source": [
    "numerical_columns = numerical_columns.columns\n",
    "numerical_columns.isna().sum()"
   ]
  },
  {
   "cell_type": "code",
   "execution_count": 21,
   "id": "9e167816",
   "metadata": {},
   "outputs": [
    {
     "data": {
      "text/plain": [
       "Item_Type\n",
       "Baking Goods             12.275211\n",
       "Breads                   11.152362\n",
       "Breakfast                13.179112\n",
       "Canned                   12.340830\n",
       "Dairy                    13.238358\n",
       "Frozen Foods             12.569323\n",
       "Fruits and Vegetables    13.194406\n",
       "Hard Drinks              11.576205\n",
       "Health and Hygiene       13.171739\n",
       "Household                13.337977\n",
       "Meat                     12.766104\n",
       "Others                   13.915724\n",
       "Seafood                  12.760274\n",
       "Snack Foods              12.865732\n",
       "Soft Drinks              11.788408\n",
       "Starchy Foods            13.659758\n",
       "Name: Item_Weight, dtype: float64"
      ]
     },
     "execution_count": 21,
     "metadata": {},
     "output_type": "execute_result"
    }
   ],
   "source": [
    "#Step1: Try to Fix the NA values for \"Item_Weight\" using \"Item_Type\"\n",
    "df.groupby(['Item_Type'])['Item_Weight'].mean()"
   ]
  },
  {
   "cell_type": "code",
   "execution_count": 22,
   "id": "69c0ab6a",
   "metadata": {},
   "outputs": [
    {
     "data": {
      "text/plain": [
       "Item_Identifier_2\n",
       "DR    12.116645\n",
       "FD    12.735577\n",
       "NC    13.344139\n",
       "Name: Item_Weight, dtype: float64"
      ]
     },
     "execution_count": 22,
     "metadata": {},
     "output_type": "execute_result"
    }
   ],
   "source": [
    "#Try to Fix the NA values for \"Item_Weight\" using \"Item_Identifier\"\n",
    "df.groupby(['Item_Identifier_2'])['Item_Weight'].mean()"
   ]
  },
  {
   "cell_type": "code",
   "execution_count": 23,
   "id": "2ecd127c",
   "metadata": {},
   "outputs": [],
   "source": [
    "#Since Both groupby are giving similar kind of result, will use Item_Identifier\"\n",
    "df['Item_Weight'] = df.groupby('Item_Identifier_2').Item_Weight.transform(lambda x: x.fillna(x.mean()))"
   ]
  },
  {
   "cell_type": "code",
   "execution_count": 24,
   "id": "ce4980c6",
   "metadata": {},
   "outputs": [],
   "source": [
    "#Step2: Fill Zero as NaN and update with Mean/Median Values\n",
    "df.loc[df['Item_Visibility']==0.000000,'Item_Visibility'] = np.nan\n",
    "df['Item_Visibility'] = df.groupby('Item_Identifier_2').Item_Visibility.transform(lambda x: x.fillna(x.mean())) "
   ]
  },
  {
   "cell_type": "code",
   "execution_count": 25,
   "id": "4f3656aa",
   "metadata": {},
   "outputs": [
    {
     "data": {
      "text/plain": [
       "Item_Identifier                 0\n",
       "Item_Weight                     0\n",
       "Item_Fat_Content                0\n",
       "Item_Visibility                 0\n",
       "Item_Type                       0\n",
       "Item_MRP                        0\n",
       "Outlet_Identifier               0\n",
       "Outlet_Establishment_Year       0\n",
       "Outlet_Size                     0\n",
       "Outlet_Location_Type            0\n",
       "Outlet_Type                     0\n",
       "Item_Outlet_Sales            5681\n",
       "Source                          0\n",
       "Item_Identifier_2               0\n",
       "dtype: int64"
      ]
     },
     "execution_count": 25,
     "metadata": {},
     "output_type": "execute_result"
    }
   ],
   "source": [
    "df.isna().sum()"
   ]
  },
  {
   "cell_type": "code",
   "execution_count": 27,
   "id": "24900cef",
   "metadata": {},
   "outputs": [],
   "source": [
    "# Data Preprocessing completed\n",
    "# Split the data again into Train and Test\n",
    "train = df.loc[df['Source']=='train']\n",
    "test = df.loc[df['Source']=='test']"
   ]
  },
  {
   "cell_type": "code",
   "execution_count": 31,
   "id": "89b39f92",
   "metadata": {},
   "outputs": [
    {
     "data": {
      "text/plain": [
       "<AxesSubplot:>"
      ]
     },
     "execution_count": 31,
     "metadata": {},
     "output_type": "execute_result"
    },
    {
     "data": {
      "image/png": "[encoded data removed]",
      "text/plain": [
       "<Figure size 432x288 with 2 Axes>"
      ]
     },
     "metadata": {
      "needs_background": "light"
     },
     "output_type": "display_data"
    }
   ],
   "source": [
    "corr_ = train.corr()\n",
    "sns.heatmap(corr_, annot = True)"
   ]
  },
  {
   "cell_type": "code",
   "execution_count": 32,
   "id": "dd352f9e",
   "metadata": {},
   "outputs": [],
   "source": [
    "X = train.select_dtypes(include=np.number).drop(columns = 'Item_Outlet_Sales')"
   ]
  },
  {
   "cell_type": "code",
   "execution_count": 36,
   "id": "7744e987",
   "metadata": {},
   "outputs": [
    {
     "data": {
      "text/html": [
       "<div>\n",
       "<style scoped>\n",
       "    .dataframe tbody tr th:only-of-type {\n",
       "        vertical-align: middle;\n",
       "    }\n",
       "\n",
       "    .dataframe tbody tr th {\n",
       "        vertical-align: top;\n",
       "    }\n",
       "\n",
       "    .dataframe thead th {\n",
       "        text-align: right;\n",
       "    }\n",
       "</style>\n",
       "<table border=\"1\" class=\"dataframe\">\n",
       "  <thead>\n",
       "    <tr style=\"text-align: right;\">\n",
       "      <th></th>\n",
       "      <th>Features</th>\n",
       "    </tr>\n",
       "  </thead>\n",
       "  <tbody>\n",
       "    <tr>\n",
       "      <th>0</th>\n",
       "      <td>Item_Weight</td>\n",
       "    </tr>\n",
       "    <tr>\n",
       "      <th>1</th>\n",
       "      <td>Item_Visibility</td>\n",
       "    </tr>\n",
       "    <tr>\n",
       "      <th>2</th>\n",
       "      <td>Item_MRP</td>\n",
       "    </tr>\n",
       "    <tr>\n",
       "      <th>3</th>\n",
       "      <td>Outlet_Establishment_Year</td>\n",
       "    </tr>\n",
       "  </tbody>\n",
       "</table>\n",
       "</div>"
      ],
      "text/plain": [
       "                    Features\n",
       "0                Item_Weight\n",
       "1            Item_Visibility\n",
       "2                   Item_MRP\n",
       "3  Outlet_Establishment_Year"
      ]
     },
     "execution_count": 36,
     "metadata": {},
     "output_type": "execute_result"
    }
   ],
   "source": [
    "vif_data = pd.DataFrame()\n",
    "vif_data['Features'] = X.columns\n",
    "vif_data"
   ]
  },
  {
   "cell_type": "code",
   "execution_count": 55,
   "id": "a18a8bef",
   "metadata": {},
   "outputs": [
    {
     "data": {
      "text/html": [
       "<div>\n",
       "<style scoped>\n",
       "    .dataframe tbody tr th:only-of-type {\n",
       "        vertical-align: middle;\n",
       "    }\n",
       "\n",
       "    .dataframe tbody tr th {\n",
       "        vertical-align: top;\n",
       "    }\n",
       "\n",
       "    .dataframe thead th {\n",
       "        text-align: right;\n",
       "    }\n",
       "</style>\n",
       "<table border=\"1\" class=\"dataframe\">\n",
       "  <thead>\n",
       "    <tr style=\"text-align: right;\">\n",
       "      <th></th>\n",
       "      <th>Features</th>\n",
       "      <th>VIF</th>\n",
       "    </tr>\n",
       "  </thead>\n",
       "  <tbody>\n",
       "    <tr>\n",
       "      <th>0</th>\n",
       "      <td>Item_Weight</td>\n",
       "      <td>10.240523</td>\n",
       "    </tr>\n",
       "    <tr>\n",
       "      <th>1</th>\n",
       "      <td>Item_Visibility</td>\n",
       "      <td>3.088807</td>\n",
       "    </tr>\n",
       "    <tr>\n",
       "      <th>2</th>\n",
       "      <td>Item_MRP</td>\n",
       "      <td>6.130512</td>\n",
       "    </tr>\n",
       "    <tr>\n",
       "      <th>3</th>\n",
       "      <td>Outlet_Establishment_Year</td>\n",
       "      <td>17.297057</td>\n",
       "    </tr>\n",
       "  </tbody>\n",
       "</table>\n",
       "</div>"
      ],
      "text/plain": [
       "                    Features        VIF\n",
       "0                Item_Weight  10.240523\n",
       "1            Item_Visibility   3.088807\n",
       "2                   Item_MRP   6.130512\n",
       "3  Outlet_Establishment_Year  17.297057"
      ]
     },
     "execution_count": 55,
     "metadata": {},
     "output_type": "execute_result"
    }
   ],
   "source": [
    "vif_data['VIF'] = [variance_inflation_factor(X.values,i) for i in range(len(X.columns))]\n",
    "vif_data"
   ]
  },
  {
   "cell_type": "code",
   "execution_count": 56,
   "id": "ae83c194",
   "metadata": {},
   "outputs": [],
   "source": [
    "df['Out_age'] = 2013 - df['Outlet_Establishment_Year']"
   ]
  },
  {
   "cell_type": "code",
   "execution_count": 57,
   "id": "614cc5e6",
   "metadata": {},
   "outputs": [],
   "source": [
    "df.drop(columns = ['Outlet_Establishment_Year'],inplace = True)"
   ]
  },
  {
   "cell_type": "code",
   "execution_count": 58,
   "id": "e54fde2c",
   "metadata": {},
   "outputs": [
    {
     "data": {
      "text/html": [
       "<div>\n",
       "<style scoped>\n",
       "    .dataframe tbody tr th:only-of-type {\n",
       "        vertical-align: middle;\n",
       "    }\n",
       "\n",
       "    .dataframe tbody tr th {\n",
       "        vertical-align: top;\n",
       "    }\n",
       "\n",
       "    .dataframe thead th {\n",
       "        text-align: right;\n",
       "    }\n",
       "</style>\n",
       "<table border=\"1\" class=\"dataframe\">\n",
       "  <thead>\n",
       "    <tr style=\"text-align: right;\">\n",
       "      <th></th>\n",
       "      <th>features</th>\n",
       "      <th>VIF</th>\n",
       "    </tr>\n",
       "  </thead>\n",
       "  <tbody>\n",
       "    <tr>\n",
       "      <th>0</th>\n",
       "      <td>Item_Weight</td>\n",
       "      <td>5.676698</td>\n",
       "    </tr>\n",
       "    <tr>\n",
       "      <th>1</th>\n",
       "      <td>Item_Visibility</td>\n",
       "      <td>2.818615</td>\n",
       "    </tr>\n",
       "    <tr>\n",
       "      <th>2</th>\n",
       "      <td>Item_MRP</td>\n",
       "      <td>4.656593</td>\n",
       "    </tr>\n",
       "    <tr>\n",
       "      <th>3</th>\n",
       "      <td>Out_age</td>\n",
       "      <td>3.696189</td>\n",
       "    </tr>\n",
       "  </tbody>\n",
       "</table>\n",
       "</div>"
      ],
      "text/plain": [
       "          features       VIF\n",
       "0      Item_Weight  5.676698\n",
       "1  Item_Visibility  2.818615\n",
       "2         Item_MRP  4.656593\n",
       "3          Out_age  3.696189"
      ]
     },
     "execution_count": 58,
     "metadata": {},
     "output_type": "execute_result"
    }
   ],
   "source": [
    "#Re-running the VIF again\n",
    "train = df.loc[df['Source']=='train']\n",
    "test = df.loc[df['Source']=='test']\n",
    "\n",
    "\n",
    "train.drop(columns = ['Source'],inplace = True)\n",
    "test.drop(columns = ['Source'],inplace = True)\n",
    "\n",
    "\n",
    "X = train.select_dtypes(include=np.number).drop(columns = 'Item_Outlet_Sales')\n",
    "vif_data = pd.DataFrame()\n",
    "vif_data['features'] = X.columns\n",
    "vif_data['VIF'] = [variance_inflation_factor(X.values,i) for i in range(len(X.columns))]\n",
    "vif_data"
   ]
  },
  {
   "cell_type": "code",
   "execution_count": 60,
   "id": "0cc3dbbf",
   "metadata": {},
   "outputs": [],
   "source": [
    "df_numbers = df.select_dtypes(include=np.number)\n",
    "df_categories = df.select_dtypes(exclude = np.number).drop(columns = ['Outlet_Identifier','Item_Identifier','Source'])"
   ]
  },
  {
   "cell_type": "code",
   "execution_count": 63,
   "id": "18d33f01",
   "metadata": {},
   "outputs": [],
   "source": [
    "df_categories_encoded = pd.get_dummies(df_categories)\n",
    "#There are 2 Option. 1 is One Hot Encoding and 2 is Dummy variable\n",
    "#Dummy variable encoded vectors - Reducing the number of columns\n",
    "#Dropping category with less values \n",
    "#pd.get_dummies(df_categories['Item_Identifier_2'],drop_first = True)"
   ]
  },
  {
   "cell_type": "code",
   "execution_count": 64,
   "id": "6e9de55c",
   "metadata": {},
   "outputs": [],
   "source": [
    "df_final = pd.concat([df_numbers,df_categories_encoded,df[['Outlet_Identifier','Item_Identifier','Source']]],axis = 1)"
   ]
  },
  {
   "cell_type": "code",
   "execution_count": 66,
   "id": "c054fa59",
   "metadata": {},
   "outputs": [],
   "source": [
    "df_final.to_excel(\"C:\\\\Users\\\\sadis\\\\Desktop\\\\inceptez\\\\Statistics\\\\ML\\\\Assignments\\\\Pre_processed_data.xlsx\",index = False)"
   ]
  }
 ],
 "metadata": {
  "kernelspec": {
   "display_name": "Python 3",
   "language": "python",
   "name": "python3"
  },
  "language_info": {
   "codemirror_mode": {
    "name": "ipython",
    "version": 3
   },
   "file_extension": ".py",
   "mimetype": "text/x-python",
   "name": "python",
   "nbconvert_exporter": "python",
   "pygments_lexer": "ipython3",
   "version": "3.8.8"
  }
 },
 "nbformat": 4,
 "nbformat_minor": 5
}
