{
 "cells": [
  {
   "cell_type": "code",
   "execution_count": 1,
   "id": "2c47f02e",
   "metadata": {},
   "outputs": [],
   "source": [
    "#Import the Libraries\n",
    "import pandas as pd\n",
    "import numpy as np \n",
    "import matplotlib.pyplot as plt \n",
    "%matplotlib inline\n",
    "import warnings \n",
    "warnings.filterwarnings('ignore')\n",
    "from datetime import datetime\n",
    "import seaborn as sns\n",
    "from statsmodels.stats.outliers_influence import variance_inflation_factor"
   ]
  },
  {
   "cell_type": "code",
   "execution_count": 3,
   "id": "fc3ae6bb",
   "metadata": {},
   "outputs": [],
   "source": [
    "#Read the Train and Test data Set\n",
    "train = pd.read_csv(\"C:\\\\Users\\\\sadis\\\\Desktop\\\\inceptez\\\\Statistics\\\\ML\\\\Assignments\\\\Black Day Sales Prediction\\\\train.csv\")\n",
    "test = pd.read_csv(\"C:\\\\Users\\\\sadis\\\\Desktop\\\\inceptez\\\\Statistics\\\\ML\\\\Assignments\\\\Black Day Sales Prediction\\\\test.csv\")\n",
    "submission = pd.read_csv(\"C:\\\\Users\\\\sadis\\\\Desktop\\\\inceptez\\\\Statistics\\\\ML\\\\Assignments\\\\Black Day Sales Prediction\\\\sample_submission.csv\")"
   ]
  },
  {
   "cell_type": "code",
   "execution_count": 4,
   "id": "1a9e604c",
   "metadata": {},
   "outputs": [
    {
     "data": {
      "text/plain": [
       "Index(['Purchase'], dtype='object')"
      ]
     },
     "execution_count": 4,
     "metadata": {},
     "output_type": "execute_result"
    }
   ],
   "source": [
    "#Difference between Train and Test\n",
    "train.columns.difference(test.columns)"
   ]
  },
  {
   "cell_type": "code",
   "execution_count": 5,
   "id": "6e5898d4",
   "metadata": {},
   "outputs": [
    {
     "name": "stdout",
     "output_type": "stream",
     "text": [
      "Train shape: (550068, 12)\n",
      "Test shape: (233599, 11)\n"
     ]
    }
   ],
   "source": [
    "# Print the Record count\n",
    "print(\"Train shape:\",train.shape)\n",
    "print(\"Test shape:\",test.shape)"
   ]
  },
  {
   "cell_type": "code",
   "execution_count": 6,
   "id": "e0f18c1d",
   "metadata": {},
   "outputs": [],
   "source": [
    "#Concat/Join the Test and TRain dataset to do EDA\n",
    "data = pd.concat([train, test],axis = 0)"
   ]
  },
  {
   "cell_type": "code",
   "execution_count": 7,
   "id": "83ce5647",
   "metadata": {},
   "outputs": [
    {
     "name": "stdout",
     "output_type": "stream",
     "text": [
      "<class 'pandas.core.frame.DataFrame'>\n",
      "Int64Index: 783667 entries, 0 to 233598\n",
      "Data columns (total 12 columns):\n",
      " #   Column                      Non-Null Count   Dtype  \n",
      "---  ------                      --------------   -----  \n",
      " 0   User_ID                     783667 non-null  int64  \n",
      " 1   Product_ID                  783667 non-null  object \n",
      " 2   Gender                      783667 non-null  object \n",
      " 3   Age                         783667 non-null  object \n",
      " 4   Occupation                  783667 non-null  int64  \n",
      " 5   City_Category               783667 non-null  object \n",
      " 6   Stay_In_Current_City_Years  783667 non-null  object \n",
      " 7   Marital_Status              783667 non-null  int64  \n",
      " 8   Product_Category_1          783667 non-null  int64  \n",
      " 9   Product_Category_2          537685 non-null  float64\n",
      " 10  Product_Category_3          237858 non-null  float64\n",
      " 11  Purchase                    550068 non-null  float64\n",
      "dtypes: float64(3), int64(4), object(5)\n",
      "memory usage: 77.7+ MB\n"
     ]
    }
   ],
   "source": [
    "#Information about Dataset\n",
    "data.info()"
   ]
  },
  {
   "cell_type": "code",
   "execution_count": 8,
   "id": "978d166d",
   "metadata": {},
   "outputs": [
    {
     "data": {
      "text/plain": [
       "Product_Category_3            545809\n",
       "Product_Category_2            245982\n",
       "User_ID                            0\n",
       "Product_ID                         0\n",
       "Gender                             0\n",
       "Age                                0\n",
       "Occupation                         0\n",
       "City_Category                      0\n",
       "Stay_In_Current_City_Years         0\n",
       "Marital_Status                     0\n",
       "Product_Category_1                 0\n",
       "dtype: int64"
      ]
     },
     "execution_count": 8,
     "metadata": {},
     "output_type": "execute_result"
    }
   ],
   "source": [
    "#Find the NA Values:\n",
    "data.loc[:,~data.columns.isin(['Purchase'])].isna().sum().sort_values(ascending = False)"
   ]
  },
  {
   "cell_type": "code",
   "execution_count": 22,
   "id": "9caa8798",
   "metadata": {},
   "outputs": [],
   "source": [
    "#Find the Percentage of NA values:\n",
    "total = data.isnull().sum().sort_values(ascending = False)\n",
    "percent = ((data.isnull().sum())/data.isnull().count()).sort_values(ascending = False)\n",
    "missing_data = pd.concat([total,percent],axis = 1,keys = ['Total','Percent'])"
   ]
  },
  {
   "cell_type": "code",
   "execution_count": 23,
   "id": "6c1832cf",
   "metadata": {},
   "outputs": [
    {
     "data": {
      "text/html": [
       "<div>\n",
       "<style scoped>\n",
       "    .dataframe tbody tr th:only-of-type {\n",
       "        vertical-align: middle;\n",
       "    }\n",
       "\n",
       "    .dataframe tbody tr th {\n",
       "        vertical-align: top;\n",
       "    }\n",
       "\n",
       "    .dataframe thead th {\n",
       "        text-align: right;\n",
       "    }\n",
       "</style>\n",
       "<table border=\"1\" class=\"dataframe\">\n",
       "  <thead>\n",
       "    <tr style=\"text-align: right;\">\n",
       "      <th></th>\n",
       "      <th>Total</th>\n",
       "      <th>Percent</th>\n",
       "    </tr>\n",
       "  </thead>\n",
       "  <tbody>\n",
       "    <tr>\n",
       "      <th>Purchase</th>\n",
       "      <td>233599</td>\n",
       "      <td>0.298085</td>\n",
       "    </tr>\n",
       "    <tr>\n",
       "      <th>User_ID</th>\n",
       "      <td>0</td>\n",
       "      <td>0.000000</td>\n",
       "    </tr>\n",
       "    <tr>\n",
       "      <th>Product_ID</th>\n",
       "      <td>0</td>\n",
       "      <td>0.000000</td>\n",
       "    </tr>\n",
       "    <tr>\n",
       "      <th>Gender</th>\n",
       "      <td>0</td>\n",
       "      <td>0.000000</td>\n",
       "    </tr>\n",
       "    <tr>\n",
       "      <th>Age</th>\n",
       "      <td>0</td>\n",
       "      <td>0.000000</td>\n",
       "    </tr>\n",
       "    <tr>\n",
       "      <th>Occupation</th>\n",
       "      <td>0</td>\n",
       "      <td>0.000000</td>\n",
       "    </tr>\n",
       "    <tr>\n",
       "      <th>City_Category</th>\n",
       "      <td>0</td>\n",
       "      <td>0.000000</td>\n",
       "    </tr>\n",
       "    <tr>\n",
       "      <th>Stay_In_Current_City_Years</th>\n",
       "      <td>0</td>\n",
       "      <td>0.000000</td>\n",
       "    </tr>\n",
       "    <tr>\n",
       "      <th>Marital_Status</th>\n",
       "      <td>0</td>\n",
       "      <td>0.000000</td>\n",
       "    </tr>\n",
       "    <tr>\n",
       "      <th>Product_Category_1</th>\n",
       "      <td>0</td>\n",
       "      <td>0.000000</td>\n",
       "    </tr>\n",
       "    <tr>\n",
       "      <th>Product_Category_2</th>\n",
       "      <td>0</td>\n",
       "      <td>0.000000</td>\n",
       "    </tr>\n",
       "  </tbody>\n",
       "</table>\n",
       "</div>"
      ],
      "text/plain": [
       "                             Total   Percent\n",
       "Purchase                    233599  0.298085\n",
       "User_ID                          0  0.000000\n",
       "Product_ID                       0  0.000000\n",
       "Gender                           0  0.000000\n",
       "Age                              0  0.000000\n",
       "Occupation                       0  0.000000\n",
       "City_Category                    0  0.000000\n",
       "Stay_In_Current_City_Years       0  0.000000\n",
       "Marital_Status                   0  0.000000\n",
       "Product_Category_1               0  0.000000\n",
       "Product_Category_2               0  0.000000"
      ]
     },
     "execution_count": 23,
     "metadata": {},
     "output_type": "execute_result"
    }
   ],
   "source": [
    "missing_data"
   ]
  },
  {
   "cell_type": "code",
   "execution_count": 9,
   "id": "ee7afce8",
   "metadata": {},
   "outputs": [
    {
     "data": {
      "text/plain": [
       "<AxesSubplot:xlabel='Marital_Status', ylabel='count'>"
      ]
     },
     "execution_count": 9,
     "metadata": {},
     "output_type": "execute_result"
    },
    {
     "data": {
      "image/png": "[encoded data removed]",
      "text/plain": [
       "<Figure size 1152x720 with 8 Axes>"
      ]
     },
     "metadata": {
      "needs_background": "light"
     },
     "output_type": "display_data"
    }
   ],
   "source": [
    "#Univariate Analysis and Bivariate Analysis \n",
    "fig,ax= plt.subplots(2,4,figsize=(16,10))\n",
    "#cat_cols = data.select_dtypes(exclude = np.number).columns\n",
    "sns.countplot('Gender',data=data,ax =ax[0][0])\n",
    "sns.countplot('Age',data=data,ax =ax[0][1])\n",
    "sns.countplot('City_Category',data=data,ax =ax[0][2])\n",
    "sns.countplot('Stay_In_Current_City_Years',data=data,ax =ax[0][3])\n",
    "sns.countplot('Marital_Status',data=data,ax =ax[1][0])"
   ]
  },
  {
   "cell_type": "code",
   "execution_count": 27,
   "id": "85fe0379",
   "metadata": {},
   "outputs": [],
   "source": [
    "Categorical_data= data.select_dtypes(exclude = np.number).columns\n",
    "Numerical_data= data.select_dtypes(include = np.number).columns"
   ]
  },
  {
   "cell_type": "code",
   "execution_count": 28,
   "id": "ad8a315b",
   "metadata": {},
   "outputs": [
    {
     "data": {
      "text/plain": [
       "Index(['Product_ID', 'Gender', 'Age', 'City_Category',\n",
       "       'Stay_In_Current_City_Years'],\n",
       "      dtype='object')"
      ]
     },
     "execution_count": 28,
     "metadata": {},
     "output_type": "execute_result"
    }
   ],
   "source": [
    "Categorical_data"
   ]
  },
  {
   "cell_type": "code",
   "execution_count": 29,
   "id": "30a0563c",
   "metadata": {},
   "outputs": [
    {
     "data": {
      "text/plain": [
       "Index(['User_ID', 'Occupation', 'Marital_Status', 'Product_Category_1',\n",
       "       'Product_Category_2', 'Purchase'],\n",
       "      dtype='object')"
      ]
     },
     "execution_count": 29,
     "metadata": {},
     "output_type": "execute_result"
    }
   ],
   "source": [
    "Numerical_data"
   ]
  },
  {
   "cell_type": "code",
   "execution_count": 13,
   "id": "9edef1a6",
   "metadata": {},
   "outputs": [
    {
     "data": {
      "text/plain": [
       "26-35    219587\n",
       "36-45    110013\n",
       "18-25     99660\n",
       "46-50     45701\n",
       "51-55     38501\n",
       "55+       21504\n",
       "0-17      15102\n",
       "Name: Age, dtype: int64"
      ]
     },
     "execution_count": 13,
     "metadata": {},
     "output_type": "execute_result"
    }
   ],
   "source": [
    "train['Age'].value_counts()"
   ]
  },
  {
   "cell_type": "markdown",
   "id": "1758ad5e",
   "metadata": {},
   "source": [
    "# Fill/Drop the NA values"
   ]
  },
  {
   "cell_type": "code",
   "execution_count": 21,
   "id": "c0f8b2c4",
   "metadata": {},
   "outputs": [],
   "source": [
    "#Product_Category_2 \n",
    "data['Product_Category_2'].fillna(data['Product_Category_2'].mean(),inplace = True)"
   ]
  },
  {
   "cell_type": "code",
   "execution_count": 20,
   "id": "263c24e4",
   "metadata": {},
   "outputs": [],
   "source": [
    "#Since Missing percentage is 70, dropped the \"Producy_category_3\" Column\n",
    "data.drop(['Product_Category_3'],axis = 1,inplace = True)"
   ]
  },
  {
   "cell_type": "markdown",
   "id": "c9367577",
   "metadata": {},
   "source": [
    "# Correct the Inconsistency data using \"Map/Replace\""
   ]
  },
  {
   "cell_type": "code",
   "execution_count": 30,
   "id": "b64a0194",
   "metadata": {},
   "outputs": [],
   "source": [
    "data['Stay_In_Current_City_Years'] = data['Stay_In_Current_City_Years'] .map({'0':0,'1':1,'2':2, '3':3, '4+':4})"
   ]
  },
  {
   "cell_type": "code",
   "execution_count": 31,
   "id": "b88b46d3",
   "metadata": {},
   "outputs": [],
   "source": [
    "data['City_Category'] = data['City_Category'] .map({'A':1,'B':2,'C':3})"
   ]
  },
  {
   "cell_type": "code",
   "execution_count": 32,
   "id": "8816a991",
   "metadata": {},
   "outputs": [],
   "source": [
    "data['Age'] = data['Age'] .map({'0-17':1,'18-25':2,'26-35':3,'36-45':4, '46-50':5, '51-55':6, '55+':7})"
   ]
  },
  {
   "cell_type": "code",
   "execution_count": 33,
   "id": "dbfe5812",
   "metadata": {},
   "outputs": [
    {
     "data": {
      "text/plain": [
       "P00265242    2709\n",
       "P00025442    2310\n",
       "P00110742    2292\n",
       "P00112142    2279\n",
       "P00046742    2084\n",
       "             ... \n",
       "P00080442       1\n",
       "P00309842       1\n",
       "P00340742       1\n",
       "P00038942       1\n",
       "P00350742       1\n",
       "Name: Product_ID, Length: 3677, dtype: int64"
      ]
     },
     "execution_count": 33,
     "metadata": {},
     "output_type": "execute_result"
    }
   ],
   "source": [
    "data['Product_ID'].value_counts()"
   ]
  },
  {
   "cell_type": "code",
   "execution_count": 50,
   "id": "f2cb2d6a",
   "metadata": {},
   "outputs": [],
   "source": [
    "data['Product_ID_4']= data['Product_ID'].apply(lambda x: x[0:4])\n",
    "data['Product_ID_4'].value_counts()\n",
    "\n",
    "data.drop(['Product_ID'],axis = 1,inplace = True)"
   ]
  },
  {
   "cell_type": "markdown",
   "id": "a0413d95",
   "metadata": {},
   "source": [
    "# Categorical Data Encoding"
   ]
  },
  {
   "cell_type": "code",
   "execution_count": 53,
   "id": "b20720b2",
   "metadata": {},
   "outputs": [],
   "source": [
    "data_ = pd.get_dummies(data,drop_first = True)"
   ]
  },
  {
   "cell_type": "code",
   "execution_count": 54,
   "id": "15e46cbb",
   "metadata": {},
   "outputs": [
    {
     "data": {
      "text/html": [
       "<div>\n",
       "<style scoped>\n",
       "    .dataframe tbody tr th:only-of-type {\n",
       "        vertical-align: middle;\n",
       "    }\n",
       "\n",
       "    .dataframe tbody tr th {\n",
       "        vertical-align: top;\n",
       "    }\n",
       "\n",
       "    .dataframe thead th {\n",
       "        text-align: right;\n",
       "    }\n",
       "</style>\n",
       "<table border=\"1\" class=\"dataframe\">\n",
       "  <thead>\n",
       "    <tr style=\"text-align: right;\">\n",
       "      <th></th>\n",
       "      <th>User_ID</th>\n",
       "      <th>Age</th>\n",
       "      <th>Occupation</th>\n",
       "      <th>City_Category</th>\n",
       "      <th>Stay_In_Current_City_Years</th>\n",
       "      <th>Marital_Status</th>\n",
       "      <th>Product_Category_1</th>\n",
       "      <th>Product_Category_2</th>\n",
       "      <th>Purchase</th>\n",
       "      <th>Gender_M</th>\n",
       "      <th>Product_ID_4_P001</th>\n",
       "      <th>Product_ID_4_P002</th>\n",
       "      <th>Product_ID_4_P003</th>\n",
       "      <th>Product_ID_4_P009</th>\n",
       "    </tr>\n",
       "  </thead>\n",
       "  <tbody>\n",
       "    <tr>\n",
       "      <th>0</th>\n",
       "      <td>1000001</td>\n",
       "      <td>1</td>\n",
       "      <td>10</td>\n",
       "      <td>1</td>\n",
       "      <td>2</td>\n",
       "      <td>0</td>\n",
       "      <td>3</td>\n",
       "      <td>9.844506</td>\n",
       "      <td>8370.0</td>\n",
       "      <td>0</td>\n",
       "      <td>0</td>\n",
       "      <td>0</td>\n",
       "      <td>0</td>\n",
       "      <td>0</td>\n",
       "    </tr>\n",
       "    <tr>\n",
       "      <th>1</th>\n",
       "      <td>1000001</td>\n",
       "      <td>1</td>\n",
       "      <td>10</td>\n",
       "      <td>1</td>\n",
       "      <td>2</td>\n",
       "      <td>0</td>\n",
       "      <td>1</td>\n",
       "      <td>6.000000</td>\n",
       "      <td>15200.0</td>\n",
       "      <td>0</td>\n",
       "      <td>0</td>\n",
       "      <td>1</td>\n",
       "      <td>0</td>\n",
       "      <td>0</td>\n",
       "    </tr>\n",
       "    <tr>\n",
       "      <th>2</th>\n",
       "      <td>1000001</td>\n",
       "      <td>1</td>\n",
       "      <td>10</td>\n",
       "      <td>1</td>\n",
       "      <td>2</td>\n",
       "      <td>0</td>\n",
       "      <td>12</td>\n",
       "      <td>9.844506</td>\n",
       "      <td>1422.0</td>\n",
       "      <td>0</td>\n",
       "      <td>0</td>\n",
       "      <td>0</td>\n",
       "      <td>0</td>\n",
       "      <td>0</td>\n",
       "    </tr>\n",
       "    <tr>\n",
       "      <th>3</th>\n",
       "      <td>1000001</td>\n",
       "      <td>1</td>\n",
       "      <td>10</td>\n",
       "      <td>1</td>\n",
       "      <td>2</td>\n",
       "      <td>0</td>\n",
       "      <td>12</td>\n",
       "      <td>14.000000</td>\n",
       "      <td>1057.0</td>\n",
       "      <td>0</td>\n",
       "      <td>0</td>\n",
       "      <td>0</td>\n",
       "      <td>0</td>\n",
       "      <td>0</td>\n",
       "    </tr>\n",
       "    <tr>\n",
       "      <th>4</th>\n",
       "      <td>1000002</td>\n",
       "      <td>7</td>\n",
       "      <td>16</td>\n",
       "      <td>3</td>\n",
       "      <td>4</td>\n",
       "      <td>0</td>\n",
       "      <td>8</td>\n",
       "      <td>9.844506</td>\n",
       "      <td>7969.0</td>\n",
       "      <td>1</td>\n",
       "      <td>0</td>\n",
       "      <td>1</td>\n",
       "      <td>0</td>\n",
       "      <td>0</td>\n",
       "    </tr>\n",
       "  </tbody>\n",
       "</table>\n",
       "</div>"
      ],
      "text/plain": [
       "   User_ID  Age  Occupation  City_Category  Stay_In_Current_City_Years  \\\n",
       "0  1000001    1          10              1                           2   \n",
       "1  1000001    1          10              1                           2   \n",
       "2  1000001    1          10              1                           2   \n",
       "3  1000001    1          10              1                           2   \n",
       "4  1000002    7          16              3                           4   \n",
       "\n",
       "   Marital_Status  Product_Category_1  Product_Category_2  Purchase  Gender_M  \\\n",
       "0               0                   3            9.844506    8370.0         0   \n",
       "1               0                   1            6.000000   15200.0         0   \n",
       "2               0                  12            9.844506    1422.0         0   \n",
       "3               0                  12           14.000000    1057.0         0   \n",
       "4               0                   8            9.844506    7969.0         1   \n",
       "\n",
       "   Product_ID_4_P001  Product_ID_4_P002  Product_ID_4_P003  Product_ID_4_P009  \n",
       "0                  0                  0                  0                  0  \n",
       "1                  0                  1                  0                  0  \n",
       "2                  0                  0                  0                  0  \n",
       "3                  0                  0                  0                  0  \n",
       "4                  0                  1                  0                  0  "
      ]
     },
     "execution_count": 54,
     "metadata": {},
     "output_type": "execute_result"
    }
   ],
   "source": [
    "data_.head()"
   ]
  },
  {
   "cell_type": "markdown",
   "id": "a47eae4a",
   "metadata": {},
   "source": [
    "# Split the Dataset"
   ]
  },
  {
   "cell_type": "code",
   "execution_count": 55,
   "id": "ac94ddec",
   "metadata": {},
   "outputs": [],
   "source": [
    "train_df = data_.loc[data_['Purchase'].isna()==False]\n",
    "test_df = data_.loc[data_['Purchase'].isna()==True]\n",
    "\n",
    "X_main_test = test_df.drop(['Purchase'],axis = 1)"
   ]
  },
  {
   "cell_type": "code",
   "execution_count": 60,
   "id": "9fd14dee",
   "metadata": {},
   "outputs": [],
   "source": [
    "X = train_df.drop(['Purchase'],axis = 1)\n",
    "y = train_df['Purchase']"
   ]
  },
  {
   "cell_type": "code",
   "execution_count": 61,
   "id": "45aa284c",
   "metadata": {},
   "outputs": [],
   "source": [
    "from sklearn.model_selection import train_test_split,cross_validate\n",
    "train_x, test_x, train_y, test_y = train_test_split(X,y,test_size = 0.2,random_state=2)"
   ]
  },
  {
   "cell_type": "markdown",
   "id": "a27122dc",
   "metadata": {},
   "source": [
    "# Feature Scalling:"
   ]
  },
  {
   "cell_type": "code",
   "execution_count": 62,
   "id": "893308f1",
   "metadata": {},
   "outputs": [],
   "source": [
    "#feature Scaling \n",
    "from sklearn.preprocessing import StandardScaler\n",
    "sc = StandardScaler()\n",
    "train_x = sc.fit_transform(train_x)\n",
    "test_x = sc.transform(test_x)\n",
    "X_main_test_sc = sc.transform(X_main_test)"
   ]
  },
  {
   "cell_type": "markdown",
   "id": "a5387961",
   "metadata": {},
   "source": [
    "# Train the Model"
   ]
  },
  {
   "cell_type": "code",
   "execution_count": 70,
   "id": "b18fe37e",
   "metadata": {},
   "outputs": [],
   "source": [
    "from sklearn.neighbors import KNeighborsClassifier\n",
    "from sklearn.metrics import accuracy_score\n",
    "#train_model \n",
    "KNN = KNeighborsClassifier().fit(train_x,train_y)\n",
    "\n",
    "pred_y_0 = KNN.predict(test_x)\n",
    "score = accuracy_score(pred_y_0,test_y)\n",
    "score = score*100"
   ]
  },
  {
   "cell_type": "code",
   "execution_count": 71,
   "id": "8b5e7e7b",
   "metadata": {},
   "outputs": [
    {
     "data": {
      "text/plain": [
       "0.06817314160015998"
      ]
     },
     "execution_count": 71,
     "metadata": {},
     "output_type": "execute_result"
    }
   ],
   "source": [
    "score"
   ]
  },
  {
   "cell_type": "markdown",
   "id": "ed4e59b1",
   "metadata": {},
   "source": [
    "# Test the Model Value (\"Y value Prediction\")"
   ]
  },
  {
   "cell_type": "code",
   "execution_count": 65,
   "id": "c2bca898",
   "metadata": {},
   "outputs": [],
   "source": [
    "pred_test = KNN.predict(X_main_test_sc)"
   ]
  },
  {
   "cell_type": "code",
   "execution_count": 69,
   "id": "af8537f1",
   "metadata": {},
   "outputs": [],
   "source": [
    "submission['Purchase'] = pred_test\n",
    "submission.to_csv(\"C:\\\\Users\\\\sadis\\\\Desktop\\\\inceptez\\\\Statistics\\\\ML\\\\Assignments\\\\Black Day Sales Prediction\\\\submission_KNN.csv\",index = False)"
   ]
  },
  {
   "cell_type": "markdown",
   "id": "ad815475",
   "metadata": {},
   "source": [
    "# Linear Regression"
   ]
  },
  {
   "cell_type": "code",
   "execution_count": 73,
   "id": "61402bdc",
   "metadata": {},
   "outputs": [],
   "source": [
    "from sklearn.linear_model import LinearRegression\n",
    "from sklearn.metrics import mean_absolute_error, r2_score, mean_squared_error"
   ]
  },
  {
   "cell_type": "code",
   "execution_count": 79,
   "id": "5fa56e2a",
   "metadata": {},
   "outputs": [
    {
     "name": "stdout",
     "output_type": "stream",
     "text": [
      "MAE:  3570.464929561662\n",
      "MSE:  21773674.180155907\n",
      "RMSE:  4666.226974779078\n",
      "R-Squared:  0.13569740345587367\n"
     ]
    }
   ],
   "source": [
    "lr = LinearRegression()\n",
    "lr.fit(train_x,train_y)\n",
    "pred_train = lr.predict(train_x)\n",
    "pred_test = lr.predict(test_x)\n",
    "pred_test = abs(pred_test)\n",
    "print(\"MAE: \",mean_absolute_error(train_y,pred_train))\n",
    "print(\"MSE: \",mean_squared_error(train_y,pred_train))\n",
    "print(\"RMSE: \",np.sqrt(mean_squared_error(train_y,pred_train)))\n",
    "print(\"R-Squared: \",r2_score(train_y,pred_train))"
   ]
  }
 ],
 "metadata": {
  "kernelspec": {
   "display_name": "Python 3",
   "language": "python",
   "name": "python3"
  },
  "language_info": {
   "codemirror_mode": {
    "name": "ipython",
    "version": 3
   },
   "file_extension": ".py",
   "mimetype": "text/x-python",
   "name": "python",
   "nbconvert_exporter": "python",
   "pygments_lexer": "ipython3",
   "version": "3.8.8"
  }
 },
 "nbformat": 4,
 "nbformat_minor": 5
}
