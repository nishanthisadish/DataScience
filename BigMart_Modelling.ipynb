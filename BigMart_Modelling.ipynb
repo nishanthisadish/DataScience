{
 "cells": [
  {
   "cell_type": "code",
   "execution_count": 1,
   "id": "ce9839a0",
   "metadata": {},
   "outputs": [],
   "source": [
    "from sklearn.linear_model import LinearRegression\n",
    "from sklearn.metrics import mean_absolute_error, r2_score, mean_squared_error\n",
    "import pandas as pd \n",
    "import numpy as np"
   ]
  },
  {
   "cell_type": "code",
   "execution_count": 3,
   "id": "f6399815",
   "metadata": {},
   "outputs": [],
   "source": [
    "df = pd.read_excel(\"C:\\\\Users\\\\sadis\\\\Desktop\\\\inceptez\\\\Statistics\\\\ML\\\\Assignments\\\\Pre_processed_data.xlsx\")"
   ]
  },
  {
   "cell_type": "code",
   "execution_count": 5,
   "id": "38d82fb6",
   "metadata": {},
   "outputs": [],
   "source": [
    "train_preprocessed = df.loc[df['Source']=='train']\n",
    "test_preprocessed = df.loc[df['Source']=='test']"
   ]
  },
  {
   "cell_type": "code",
   "execution_count": 8,
   "id": "33d6bafb",
   "metadata": {},
   "outputs": [],
   "source": [
    "del train_preprocessed['Source']"
   ]
  },
  {
   "cell_type": "code",
   "execution_count": 9,
   "id": "a78888e9",
   "metadata": {},
   "outputs": [],
   "source": [
    "del test_preprocessed['Source']"
   ]
  },
  {
   "cell_type": "code",
   "execution_count": 10,
   "id": "59b04fb1",
   "metadata": {},
   "outputs": [],
   "source": [
    "X_train = train_preprocessed.drop(columns = ['Outlet_Identifier','Item_Outlet_Sales','Item_Identifier'])\n",
    "X_test = test_preprocessed.drop(columns = ['Outlet_Identifier','Item_Outlet_Sales','Item_Identifier'])\n",
    "train_y = train_preprocessed['Item_Outlet_Sales']\n",
    "test_y = test_preprocessed['Item_Outlet_Sales']"
   ]
  },
  {
   "cell_type": "code",
   "execution_count": 11,
   "id": "a916881a",
   "metadata": {},
   "outputs": [
    {
     "name": "stdout",
     "output_type": "stream",
     "text": [
      "MAE:  836.0540595865735\n",
      "MSE:  1273442.612365515\n",
      "RMSE:  1128.4691455088682\n",
      "R-Squared:  0.5626612621848155\n"
     ]
    }
   ],
   "source": [
    "lr = LinearRegression()\n",
    "lr.fit(X_train,train_y)\n",
    "pred_train = lr.predict(X_train)\n",
    "pred_test = lr.predict(X_test)\n",
    "pred_test = abs(pred_test)\n",
    "print(\"MAE: \",mean_absolute_error(train_y,pred_train))\n",
    "print(\"MSE: \",mean_squared_error(train_y,pred_train))\n",
    "print(\"RMSE: \",np.sqrt(mean_squared_error(train_y,pred_train)))\n",
    "print(\"R-Squared: \",r2_score(train_y,pred_train))"
   ]
  },
  {
   "cell_type": "code",
   "execution_count": null,
   "id": "c1d6805c",
   "metadata": {},
   "outputs": [],
   "source": []
  }
 ],
 "metadata": {
  "kernelspec": {
   "display_name": "Python 3",
   "language": "python",
   "name": "python3"
  },
  "language_info": {
   "codemirror_mode": {
    "name": "ipython",
    "version": 3
   },
   "file_extension": ".py",
   "mimetype": "text/x-python",
   "name": "python",
   "nbconvert_exporter": "python",
   "pygments_lexer": "ipython3",
   "version": "3.8.8"
  }
 },
 "nbformat": 4,
 "nbformat_minor": 5
}
